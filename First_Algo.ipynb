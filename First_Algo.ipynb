{
 "cells": [
  {
   "cell_type": "code",
   "execution_count": 3,
   "metadata": {},
   "outputs": [
    {
     "name": "stdout",
     "output_type": "stream",
     "text": [
      "1.13.1\n"
     ]
    }
   ],
   "source": [
    "import tensorflow as tf\n",
    "print (tf.__version__)\n"
   ]
  },
  {
   "cell_type": "code",
   "execution_count": 4,
   "metadata": {},
   "outputs": [
    {
     "name": "stdout",
     "output_type": "stream",
     "text": [
      "2.2.4\n"
     ]
    },
    {
     "name": "stderr",
     "output_type": "stream",
     "text": [
      "Using TensorFlow backend.\n"
     ]
    }
   ],
   "source": [
    "import keras\n",
    "print(keras.__version__)"
   ]
  },
  {
   "cell_type": "code",
   "execution_count": 5,
   "metadata": {},
   "outputs": [],
   "source": [
    "import numpy as np\n",
    "import matplotlib.pyplot as plt\n",
    "from mpl_toolkits.mplot3d import Axes3D"
   ]
  },
  {
   "cell_type": "code",
   "execution_count": 6,
   "metadata": {},
   "outputs": [],
   "source": [
    "observations = 1000\n",
    "\n",
    "xs = np.random.uniform(-10,10,size = (observations,1))\n",
    "zs = np.random.uniform(-10,10,size = (observations,1))\n",
    "\n",
    "inputs = np.column_stack((xs, zs))"
   ]
  },
  {
   "cell_type": "code",
   "execution_count": 7,
   "metadata": {},
   "outputs": [
    {
     "name": "stdout",
     "output_type": "stream",
     "text": [
      "(1000, 2)\n"
     ]
    }
   ],
   "source": [
    "print(inputs.shape)"
   ]
  },
  {
   "cell_type": "code",
   "execution_count": 8,
   "metadata": {},
   "outputs": [],
   "source": [
    "noise = np.random.uniform(-1,1,size = (observations,1))\n",
    "\n",
    "target = 3*xs -2*zs + 7 + noise"
   ]
  },
  {
   "cell_type": "code",
   "execution_count": 9,
   "metadata": {},
   "outputs": [
    {
     "name": "stdout",
     "output_type": "stream",
     "text": [
      "(1000, 1)\n"
     ]
    }
   ],
   "source": [
    "print(target.shape)"
   ]
  },
  {
   "cell_type": "code",
   "execution_count": 10,
   "metadata": {},
   "outputs": [],
   "source": [
    "weights = np.random.uniform(-0.1, 0.1, size = (2,1))\n",
    "biases = np.random.uniform(-0.1,0.1, size = (1,1))\n",
    "learning_rate = 0.01\n"
   ]
  },
  {
   "cell_type": "markdown",
   "metadata": {},
   "source": [
    "Training"
   ]
  },
  {
   "cell_type": "code",
   "execution_count": 11,
   "metadata": {},
   "outputs": [
    {
     "name": "stdout",
     "output_type": "stream",
     "text": [
      "243.6656235420677\n",
      "122.10788387499674\n",
      "67.46119316407253\n",
      "42.73854866743146\n",
      "31.41272941918996\n",
      "26.09216738610212\n",
      "23.46823013671004\n",
      "22.0586412750762\n",
      "21.198767967298977\n",
      "20.59032575396762\n",
      "20.099301967686028\n",
      "19.665399433210165\n",
      "19.261424476435298\n",
      "18.875060200418105\n",
      "18.50068055720403\n",
      "18.135671436479626\n",
      "17.778776223697307\n",
      "17.429351314227674\n",
      "17.08703089119246\n",
      "16.751575885087615\n",
      "16.422805868582305\n",
      "16.100568316647774\n",
      "15.784724710054967\n",
      "15.475144235428845\n",
      "15.171700913307014\n",
      "14.874272274073647\n",
      "14.582738733390462\n",
      "14.296983284138511\n",
      "14.016891331902261\n",
      "13.742350595843188\n",
      "13.47325103963253\n",
      "13.209484816461224\n",
      "12.95094622088969\n",
      "12.697531644254392\n",
      "12.449139532136229\n",
      "12.205670343205412\n",
      "11.967026509123572\n",
      "11.733112395350018\n",
      "11.503834262774381\n",
      "11.279100230132148\n",
      "11.058820237175285\n",
      "10.842906008577364\n",
      "10.63127101855618\n",
      "10.423830456198507\n",
      "10.22050119147242\n",
      "10.021201741913515\n",
      "9.825852239971429\n",
      "9.634374401003553\n",
      "9.446691491903135\n",
      "9.262728300349114\n",
      "9.082411104665441\n",
      "8.905667644277727\n",
      "8.732427090755456\n",
      "8.562620019428094\n",
      "8.396178381563717\n",
      "8.233035477099104\n",
      "8.073125927910237\n",
      "7.916385651612573\n",
      "7.762751835880573\n",
      "7.612162913276232\n",
      "7.464558536576409\n",
      "7.319879554589223\n",
      "7.178067988449706\n",
      "7.039067008385287\n",
      "6.9028209109417205\n",
      "6.769275096660414\n",
      "6.6383760481981735\n",
      "6.51007130888057\n",
      "6.384309461680382\n",
      "6.261040108612659\n",
      "6.140213850538172\n",
      "6.02178226736711\n",
      "5.905697898655158\n",
      "5.7919142245841275\n",
      "5.680385647319536\n",
      "5.571067472737658\n",
      "5.4639158925147475\n",
      "5.358887966571227\n",
      "5.255941605863805\n",
      "5.155035555518667\n",
      "5.0561293782989205\n",
      "4.959183438399742\n",
      "4.864158885564643\n",
      "4.771017639516578\n",
      "4.679722374697592\n",
      "4.590236505310917\n",
      "4.5025241706595445\n",
      "4.416550220775338\n",
      "4.332280202332997\n",
      "4.249680344843177\n",
      "4.168717547119251\n",
      "4.089359364012301\n",
      "4.011573993408991\n",
      "3.9353302634871543\n",
      "3.8605976202239334\n",
      "3.787346115151542\n",
      "3.7155463933556554\n",
      "3.645169681711678\n",
      "3.5761877773541766\n",
      "3.508573036374799\n"
     ]
    }
   ],
   "source": [
    "for i in range(100):\n",
    "    outputs = np.dot(inputs,weights) + biases\n",
    "    deltas = outputs - target\n",
    "    \n",
    "    loss = np.sum(deltas**2)/2/observations #average loss\n",
    "    \n",
    "    print(loss)\n",
    "    \n",
    "    scaled_deltas = deltas/observations\n",
    "    \n",
    "    weights = weights - learning_rate*(np.dot(inputs.T, scaled_deltas))\n",
    "    biases = biases - learning_rate*(np.sum(scaled_deltas))\n",
    "    "
   ]
  },
  {
   "cell_type": "code",
   "execution_count": 12,
   "metadata": {},
   "outputs": [
    {
     "data": {
      "image/png": "[encoded data removed]",
      "text/plain": [
       "<Figure size 432x288 with 1 Axes>"
      ]
     },
     "metadata": {
      "needs_background": "light"
     },
     "output_type": "display_data"
    }
   ],
   "source": [
    "plt.plot(outputs, target)\n",
    "plt.show()"
   ]
  },
  {
   "cell_type": "code",
   "execution_count": 13,
   "metadata": {},
   "outputs": [],
   "source": [
    "observations = 10000\n",
    "x = np.random.uniform(-10,10, size = (observations,1))\n",
    "y = np.random.uniform(-10,10, size = (observations,1))\n",
    "z = np.random.uniform(-10,10, size = (observations,1))\n",
    "\n",
    "inputs = np.column_stack((x,y,z))\n",
    "noise = np.random.uniform(-1,1, size = (observations,1))\n",
    "\n",
    "targets = 4*x +7*y - z + 7 + noise\n",
    "\n",
    "biases = np.random.uniform(-0.5,0.5,size = (1,1))\n",
    "weights = np.random.uniform(-0.5,0.5,size = (3,1))\n",
    "learning_rate = 0.01\n",
    "\n",
    "np.savez(\"Initial_File\", file_input = inputs, file_target = targets)\n"
   ]
  },
  {
   "cell_type": "code",
   "execution_count": 14,
   "metadata": {},
   "outputs": [
    {
     "name": "stdout",
     "output_type": "stream",
     "text": [
      "41.13094694992668\n",
      "27.79277518472448\n",
      "19.008497350540832\n",
      "13.322357657420012\n",
      "9.797847395406151\n",
      "7.80662783395916\n",
      "6.901102562964274\n",
      "6.657944058485933\n",
      "6.584597633182937\n",
      "6.516480123054132\n",
      "6.449789244180928\n",
      "6.384268205741415\n",
      "6.31974166950087\n",
      "6.256089275837115\n",
      "6.193227781401393\n",
      "6.131099006936134\n",
      "6.069661705186599\n",
      "6.008886073724603\n",
      "5.948750052335689\n",
      "5.8892368244952555\n",
      "5.830333131283897\n",
      "5.772028133489765\n",
      "5.714312643600677\n",
      "5.657178607383068\n",
      "5.600618753874434\n",
      "5.544626359017808\n",
      "5.4891950859808345\n",
      "5.43431887722198\n",
      "5.379991881476828\n",
      "5.326208404309976\n",
      "5.272962874570705\n",
      "5.220249821582282\n",
      "5.168063859576193\n",
      "5.116399677016982\n",
      "5.065252029229132\n",
      "5.014615733253852\n",
      "4.964485664212365\n",
      "4.914856752687479\n",
      "4.865723982793953\n",
      "4.817082390715317\n",
      "4.768927063557073\n",
      "4.721253138415018\n",
      "4.674055801590275\n",
      "4.627330287904932\n",
      "4.581071880087092\n",
      "4.53527590820433\n",
      "4.489937749131268\n",
      "4.445052826041764\n",
      "4.400616607919104\n",
      "4.356624609079898\n",
      "4.313072388708601\n",
      "4.269955550400719\n",
      "4.227269741713241\n",
      "4.185010653721399\n",
      "4.143174020581086\n",
      "4.101755619096464\n",
      "4.060751268292458\n",
      "4.02015682899191\n",
      "3.9799682033972092\n",
      "3.940181334676255\n",
      "3.900792206552712\n",
      "3.8617968429004184\n",
      "3.8231913073418955\n",
      "3.7849717028509198\n",
      "3.747134171359087\n",
      "3.70967489336633\n",
      "3.672590087555327\n",
      "3.635876010409788\n",
      "3.599528955836561\n",
      "3.5635452547915047\n",
      "3.527921274909113\n",
      "3.4926534201358534\n",
      "3.457738130367153\n",
      "3.4231718810880287\n",
      "3.388951183017295\n",
      "3.3550725817553566\n",
      "3.3215326574354824\n",
      "3.288328024378609\n",
      "3.2554553307515586\n",
      "3.2229112582286956\n",
      "3.190692521656958\n",
      "3.1587958687242352\n",
      "3.1272180796310765\n",
      "3.095955966765648\n",
      "3.0650063743819773\n",
      "3.0343661782813935\n",
      "3.0040322854971526\n",
      "2.9740016339822177\n",
      "2.9442711923001696\n",
      "2.914837959319187\n",
      "2.8856989639091135\n",
      "2.856851264641523\n",
      "2.8282919494928014\n",
      "2.8000181355502005\n",
      "2.772026968720816\n",
      "2.744315623443488\n",
      "2.716881302403566\n",
      "2.6897212362505427\n",
      "2.662832683318498\n",
      "2.63621292934935\n"
     ]
    }
   ],
   "source": [
    "for i in range (100):\n",
    "    outputs = np.dot(inputs,weights) + biases\n",
    "    deltas = outputs - targets\n",
    "    loss = np.sum(np.absolute(deltas))/observations\n",
    "    print(loss)\n",
    "    deltas_scaled = deltas/observations\n",
    "    \n",
    "    biases = biases - learning_rate*(np.sum(deltas_scaled))\n",
    "    weights = weights - learning_rate*(np.dot(inputs.T,deltas_scaled))\n",
    "    "
   ]
  },
  {
   "cell_type": "code",
   "execution_count": 23,
   "metadata": {},
   "outputs": [],
   "source": [
    "training_data = np.load(\"Initial_File.npz\")\n",
    "import keras.losses"
   ]
  },
  {
   "cell_type": "code",
   "execution_count": 24,
   "metadata": {},
   "outputs": [],
   "source": [
    "input_size = 3\n",
    "output_size = 1\n",
    "\n",
    "model_1 = tf.keras.Sequential([\n",
    "    tf.keras.layers.Dense(output_size)\n",
    "])\n",
    "\n",
    "model_1.compile(optimizer = \"sgd\", loss = \"huber_loss\")"
   ]
  },
  {
   "cell_type": "code",
   "execution_count": 25,
   "metadata": {},
   "outputs": [
    {
     "ename": "ValueError",
     "evalue": "Unknown loss function:huber_loss",
     "output_type": "error",
     "traceback": [
      "\u001b[0;31m---------------------------------------------------------------------------\u001b[0m",
      "\u001b[0;31mValueError\u001b[0m                                Traceback (most recent call last)",
      "\u001b[0;32m<ipython-input-25-0cb9e5375f7f>\u001b[0m in \u001b[0;36m<module>\u001b[0;34m\u001b[0m\n\u001b[0;32m----> 1\u001b[0;31m \u001b[0mmodel_1\u001b[0m\u001b[0;34m.\u001b[0m\u001b[0mfit\u001b[0m\u001b[0;34m(\u001b[0m\u001b[0mtraining_data\u001b[0m\u001b[0;34m[\u001b[0m\u001b[0;34m\"file_input\"\u001b[0m\u001b[0;34m]\u001b[0m\u001b[0;34m,\u001b[0m \u001b[0mtraining_data\u001b[0m\u001b[0;34m[\u001b[0m\u001b[0;34m\"file_target\"\u001b[0m\u001b[0;34m]\u001b[0m\u001b[0;34m,\u001b[0m \u001b[0mepochs\u001b[0m \u001b[0;34m=\u001b[0m \u001b[0;36m50\u001b[0m\u001b[0;34m)\u001b[0m\u001b[0;34m\u001b[0m\u001b[0;34m\u001b[0m\u001b[0m\n\u001b[0m",
      "\u001b[0;32m/Applications/anaconda3/envs/py3-TF2.0/lib/python3.7/site-packages/tensorflow/python/keras/engine/training.py\u001b[0m in \u001b[0;36mfit\u001b[0;34m(self, x, y, batch_size, epochs, verbose, callbacks, validation_split, validation_data, shuffle, class_weight, sample_weight, initial_epoch, steps_per_epoch, validation_steps, max_queue_size, workers, use_multiprocessing, **kwargs)\u001b[0m\n\u001b[1;32m    774\u001b[0m         \u001b[0msteps\u001b[0m\u001b[0;34m=\u001b[0m\u001b[0msteps_per_epoch\u001b[0m\u001b[0;34m,\u001b[0m\u001b[0;34m\u001b[0m\u001b[0;34m\u001b[0m\u001b[0m\n\u001b[1;32m    775\u001b[0m         \u001b[0mvalidation_split\u001b[0m\u001b[0;34m=\u001b[0m\u001b[0mvalidation_split\u001b[0m\u001b[0;34m,\u001b[0m\u001b[0;34m\u001b[0m\u001b[0;34m\u001b[0m\u001b[0m\n\u001b[0;32m--> 776\u001b[0;31m         shuffle=shuffle)\n\u001b[0m\u001b[1;32m    777\u001b[0m \u001b[0;34m\u001b[0m\u001b[0m\n\u001b[1;32m    778\u001b[0m     \u001b[0;31m# Prepare validation data.\u001b[0m\u001b[0;34m\u001b[0m\u001b[0;34m\u001b[0m\u001b[0;34m\u001b[0m\u001b[0m\n",
      "\u001b[0;32m/Applications/anaconda3/envs/py3-TF2.0/lib/python3.7/site-packages/tensorflow/python/keras/engine/training.py\u001b[0m in \u001b[0;36m_standardize_user_data\u001b[0;34m(self, x, y, sample_weight, class_weight, batch_size, check_steps, steps_name, steps, validation_split, shuffle)\u001b[0m\n\u001b[1;32m   2344\u001b[0m             \u001b[0mloss_weights\u001b[0m\u001b[0;34m=\u001b[0m\u001b[0mself\u001b[0m\u001b[0;34m.\u001b[0m\u001b[0mloss_weights\u001b[0m\u001b[0;34m,\u001b[0m\u001b[0;34m\u001b[0m\u001b[0;34m\u001b[0m\u001b[0m\n\u001b[1;32m   2345\u001b[0m             \u001b[0mtarget_tensors\u001b[0m\u001b[0;34m=\u001b[0m\u001b[0mtarget_tensors\u001b[0m\u001b[0;34m,\u001b[0m\u001b[0;34m\u001b[0m\u001b[0;34m\u001b[0m\u001b[0m\n\u001b[0;32m-> 2346\u001b[0;31m             run_eagerly=self.run_eagerly)\n\u001b[0m\u001b[1;32m   2347\u001b[0m \u001b[0;34m\u001b[0m\u001b[0m\n\u001b[1;32m   2348\u001b[0m     \u001b[0;31m# In graph mode, if we had just set inputs and targets as symbolic tensors\u001b[0m\u001b[0;34m\u001b[0m\u001b[0;34m\u001b[0m\u001b[0;34m\u001b[0m\u001b[0m\n",
      "\u001b[0;32m/Applications/anaconda3/envs/py3-TF2.0/lib/python3.7/site-packages/tensorflow/python/training/checkpointable/base.py\u001b[0m in \u001b[0;36m_method_wrapper\u001b[0;34m(self, *args, **kwargs)\u001b[0m\n\u001b[1;32m    440\u001b[0m     \u001b[0mself\u001b[0m\u001b[0;34m.\u001b[0m\u001b[0m_setattr_tracking\u001b[0m \u001b[0;34m=\u001b[0m \u001b[0;32mFalse\u001b[0m  \u001b[0;31m# pylint: disable=protected-access\u001b[0m\u001b[0;34m\u001b[0m\u001b[0;34m\u001b[0m\u001b[0m\n\u001b[1;32m    441\u001b[0m     \u001b[0;32mtry\u001b[0m\u001b[0;34m:\u001b[0m\u001b[0;34m\u001b[0m\u001b[0;34m\u001b[0m\u001b[0m\n\u001b[0;32m--> 442\u001b[0;31m       \u001b[0mmethod\u001b[0m\u001b[0;34m(\u001b[0m\u001b[0mself\u001b[0m\u001b[0;34m,\u001b[0m \u001b[0;34m*\u001b[0m\u001b[0margs\u001b[0m\u001b[0;34m,\u001b[0m \u001b[0;34m**\u001b[0m\u001b[0mkwargs\u001b[0m\u001b[0;34m)\u001b[0m\u001b[0;34m\u001b[0m\u001b[0;34m\u001b[0m\u001b[0m\n\u001b[0m\u001b[1;32m    443\u001b[0m     \u001b[0;32mfinally\u001b[0m\u001b[0;34m:\u001b[0m\u001b[0;34m\u001b[0m\u001b[0;34m\u001b[0m\u001b[0m\n\u001b[1;32m    444\u001b[0m       \u001b[0mself\u001b[0m\u001b[0;34m.\u001b[0m\u001b[0m_setattr_tracking\u001b[0m \u001b[0;34m=\u001b[0m \u001b[0mprevious_value\u001b[0m  \u001b[0;31m# pylint: disable=protected-access\u001b[0m\u001b[0;34m\u001b[0m\u001b[0;34m\u001b[0m\u001b[0m\n",
      "\u001b[0;32m/Applications/anaconda3/envs/py3-TF2.0/lib/python3.7/site-packages/tensorflow/python/keras/engine/training.py\u001b[0m in \u001b[0;36mcompile\u001b[0;34m(self, optimizer, loss, metrics, loss_weights, sample_weight_mode, weighted_metrics, target_tensors, distribute, **kwargs)\u001b[0m\n\u001b[1;32m    280\u001b[0m       \u001b[0mloss_functions\u001b[0m \u001b[0;34m=\u001b[0m \u001b[0;34m[\u001b[0m\u001b[0mtraining_utils\u001b[0m\u001b[0;34m.\u001b[0m\u001b[0mget_loss_function\u001b[0m\u001b[0;34m(\u001b[0m\u001b[0ml\u001b[0m\u001b[0;34m)\u001b[0m \u001b[0;32mfor\u001b[0m \u001b[0ml\u001b[0m \u001b[0;32min\u001b[0m \u001b[0mloss\u001b[0m\u001b[0;34m]\u001b[0m\u001b[0;34m\u001b[0m\u001b[0;34m\u001b[0m\u001b[0m\n\u001b[1;32m    281\u001b[0m     \u001b[0;32melse\u001b[0m\u001b[0;34m:\u001b[0m\u001b[0;34m\u001b[0m\u001b[0;34m\u001b[0m\u001b[0m\n\u001b[0;32m--> 282\u001b[0;31m       \u001b[0mloss_function\u001b[0m \u001b[0;34m=\u001b[0m \u001b[0mtraining_utils\u001b[0m\u001b[0;34m.\u001b[0m\u001b[0mget_loss_function\u001b[0m\u001b[0;34m(\u001b[0m\u001b[0mloss\u001b[0m\u001b[0;34m)\u001b[0m\u001b[0;34m\u001b[0m\u001b[0;34m\u001b[0m\u001b[0m\n\u001b[0m\u001b[1;32m    283\u001b[0m       \u001b[0mloss_functions\u001b[0m \u001b[0;34m=\u001b[0m \u001b[0;34m[\u001b[0m\u001b[0mloss_function\u001b[0m \u001b[0;32mfor\u001b[0m \u001b[0m_\u001b[0m \u001b[0;32min\u001b[0m \u001b[0mrange\u001b[0m\u001b[0;34m(\u001b[0m\u001b[0mlen\u001b[0m\u001b[0;34m(\u001b[0m\u001b[0mself\u001b[0m\u001b[0;34m.\u001b[0m\u001b[0moutputs\u001b[0m\u001b[0;34m)\u001b[0m\u001b[0;34m)\u001b[0m\u001b[0;34m]\u001b[0m\u001b[0;34m\u001b[0m\u001b[0;34m\u001b[0m\u001b[0m\n\u001b[1;32m    284\u001b[0m     \u001b[0mself\u001b[0m\u001b[0;34m.\u001b[0m\u001b[0mloss_functions\u001b[0m \u001b[0;34m=\u001b[0m \u001b[0mloss_functions\u001b[0m\u001b[0;34m\u001b[0m\u001b[0;34m\u001b[0m\u001b[0m\n",
      "\u001b[0;32m/Applications/anaconda3/envs/py3-TF2.0/lib/python3.7/site-packages/tensorflow/python/keras/engine/training_utils.py\u001b[0m in \u001b[0;36mget_loss_function\u001b[0;34m(loss)\u001b[0m\n\u001b[1;32m    871\u001b[0m   \u001b[0;32mif\u001b[0m \u001b[0mloss\u001b[0m \u001b[0;32min\u001b[0m \u001b[0;34m[\u001b[0m\u001b[0;34m'mse'\u001b[0m\u001b[0;34m,\u001b[0m \u001b[0;34m'MSE'\u001b[0m\u001b[0;34m,\u001b[0m \u001b[0;34m'mean_squared_error'\u001b[0m\u001b[0;34m]\u001b[0m\u001b[0;34m:\u001b[0m\u001b[0;34m\u001b[0m\u001b[0;34m\u001b[0m\u001b[0m\n\u001b[1;32m    872\u001b[0m     \u001b[0;32mreturn\u001b[0m \u001b[0mlosses\u001b[0m\u001b[0;34m.\u001b[0m\u001b[0mMeanSquaredError\u001b[0m\u001b[0;34m(\u001b[0m\u001b[0;34m)\u001b[0m\u001b[0;34m\u001b[0m\u001b[0;34m\u001b[0m\u001b[0m\n\u001b[0;32m--> 873\u001b[0;31m   \u001b[0;32mreturn\u001b[0m \u001b[0mlosses\u001b[0m\u001b[0;34m.\u001b[0m\u001b[0mget\u001b[0m\u001b[0;34m(\u001b[0m\u001b[0mloss\u001b[0m\u001b[0;34m)\u001b[0m\u001b[0;34m\u001b[0m\u001b[0;34m\u001b[0m\u001b[0m\n\u001b[0m\u001b[1;32m    874\u001b[0m \u001b[0;34m\u001b[0m\u001b[0m\n\u001b[1;32m    875\u001b[0m \u001b[0;34m\u001b[0m\u001b[0m\n",
      "\u001b[0;32m/Applications/anaconda3/envs/py3-TF2.0/lib/python3.7/site-packages/tensorflow/python/keras/losses.py\u001b[0m in \u001b[0;36mget\u001b[0;34m(identifier)\u001b[0m\n\u001b[1;32m    592\u001b[0m   \u001b[0;32mif\u001b[0m \u001b[0misinstance\u001b[0m\u001b[0;34m(\u001b[0m\u001b[0midentifier\u001b[0m\u001b[0;34m,\u001b[0m \u001b[0msix\u001b[0m\u001b[0;34m.\u001b[0m\u001b[0mstring_types\u001b[0m\u001b[0;34m)\u001b[0m\u001b[0;34m:\u001b[0m\u001b[0;34m\u001b[0m\u001b[0;34m\u001b[0m\u001b[0m\n\u001b[1;32m    593\u001b[0m     \u001b[0midentifier\u001b[0m \u001b[0;34m=\u001b[0m \u001b[0mstr\u001b[0m\u001b[0;34m(\u001b[0m\u001b[0midentifier\u001b[0m\u001b[0;34m)\u001b[0m\u001b[0;34m\u001b[0m\u001b[0;34m\u001b[0m\u001b[0m\n\u001b[0;32m--> 594\u001b[0;31m     \u001b[0;32mreturn\u001b[0m \u001b[0mdeserialize\u001b[0m\u001b[0;34m(\u001b[0m\u001b[0midentifier\u001b[0m\u001b[0;34m)\u001b[0m\u001b[0;34m\u001b[0m\u001b[0;34m\u001b[0m\u001b[0m\n\u001b[0m\u001b[1;32m    595\u001b[0m   \u001b[0;32mif\u001b[0m \u001b[0misinstance\u001b[0m\u001b[0;34m(\u001b[0m\u001b[0midentifier\u001b[0m\u001b[0;34m,\u001b[0m \u001b[0mdict\u001b[0m\u001b[0;34m)\u001b[0m\u001b[0;34m:\u001b[0m\u001b[0;34m\u001b[0m\u001b[0;34m\u001b[0m\u001b[0m\n\u001b[1;32m    596\u001b[0m     \u001b[0;32mreturn\u001b[0m \u001b[0mdeserialize\u001b[0m\u001b[0;34m(\u001b[0m\u001b[0midentifier\u001b[0m\u001b[0;34m)\u001b[0m\u001b[0;34m\u001b[0m\u001b[0;34m\u001b[0m\u001b[0m\n",
      "\u001b[0;32m/Applications/anaconda3/envs/py3-TF2.0/lib/python3.7/site-packages/tensorflow/python/keras/losses.py\u001b[0m in \u001b[0;36mdeserialize\u001b[0;34m(name, custom_objects)\u001b[0m\n\u001b[1;32m    583\u001b[0m       \u001b[0mmodule_objects\u001b[0m\u001b[0;34m=\u001b[0m\u001b[0mglobals\u001b[0m\u001b[0;34m(\u001b[0m\u001b[0;34m)\u001b[0m\u001b[0;34m,\u001b[0m\u001b[0;34m\u001b[0m\u001b[0;34m\u001b[0m\u001b[0m\n\u001b[1;32m    584\u001b[0m       \u001b[0mcustom_objects\u001b[0m\u001b[0;34m=\u001b[0m\u001b[0mcustom_objects\u001b[0m\u001b[0;34m,\u001b[0m\u001b[0;34m\u001b[0m\u001b[0;34m\u001b[0m\u001b[0m\n\u001b[0;32m--> 585\u001b[0;31m       printable_module_name='loss function')\n\u001b[0m\u001b[1;32m    586\u001b[0m \u001b[0;34m\u001b[0m\u001b[0m\n\u001b[1;32m    587\u001b[0m \u001b[0;34m\u001b[0m\u001b[0m\n",
      "\u001b[0;32m/Applications/anaconda3/envs/py3-TF2.0/lib/python3.7/site-packages/tensorflow/python/keras/utils/generic_utils.py\u001b[0m in \u001b[0;36mdeserialize_keras_object\u001b[0;34m(identifier, module_objects, custom_objects, printable_module_name)\u001b[0m\n\u001b[1;32m    210\u001b[0m       \u001b[0;32mif\u001b[0m \u001b[0mfn\u001b[0m \u001b[0;32mis\u001b[0m \u001b[0;32mNone\u001b[0m\u001b[0;34m:\u001b[0m\u001b[0;34m\u001b[0m\u001b[0;34m\u001b[0m\u001b[0m\n\u001b[1;32m    211\u001b[0m         raise ValueError('Unknown ' + printable_module_name + ':' +\n\u001b[0;32m--> 212\u001b[0;31m                          function_name)\n\u001b[0m\u001b[1;32m    213\u001b[0m     \u001b[0;32mreturn\u001b[0m \u001b[0mfn\u001b[0m\u001b[0;34m\u001b[0m\u001b[0;34m\u001b[0m\u001b[0m\n\u001b[1;32m    214\u001b[0m   \u001b[0;32melse\u001b[0m\u001b[0;34m:\u001b[0m\u001b[0;34m\u001b[0m\u001b[0;34m\u001b[0m\u001b[0m\n",
      "\u001b[0;31mValueError\u001b[0m: Unknown loss function:huber_loss"
     ]
    }
   ],
   "source": [
    "model_1.fit(training_data[\"file_input\"], training_data[\"file_target\"], epochs = 50)"
   ]
  },
  {
   "cell_type": "code",
   "execution_count": 17,
   "metadata": {},
   "outputs": [
    {
     "data": {
      "text/plain": [
       "[array([[ 4.00118  ],\n",
       "        [ 7.0019245],\n",
       "        [-1.0197214]], dtype=float32), array([6.993251], dtype=float32)]"
      ]
     },
     "execution_count": 17,
     "metadata": {},
     "output_type": "execute_result"
    }
   ],
   "source": [
    "model_1.layers[0].get_weights()"
   ]
  },
  {
   "cell_type": "code",
   "execution_count": 1,
   "metadata": {},
   "outputs": [
    {
     "ename": "NameError",
     "evalue": "name 'model_1' is not defined",
     "output_type": "error",
     "traceback": [
      "\u001b[0;31m---------------------------------------------------------------------------\u001b[0m",
      "\u001b[0;31mNameError\u001b[0m                                 Traceback (most recent call last)",
      "\u001b[0;32m<ipython-input-1-caca6d35cd39>\u001b[0m in \u001b[0;36m<module>\u001b[0;34m\u001b[0m\n\u001b[0;32m----> 1\u001b[0;31m \u001b[0mmodel_1\u001b[0m\u001b[0;34m.\u001b[0m\u001b[0mpredict_on_batch\u001b[0m\u001b[0;34m(\u001b[0m\u001b[0mtraining_data\u001b[0m\u001b[0;34m[\u001b[0m\u001b[0;34m\"file_input\"\u001b[0m\u001b[0;34m]\u001b[0m\u001b[0;34m)\u001b[0m\u001b[0;34m\u001b[0m\u001b[0;34m\u001b[0m\u001b[0m\n\u001b[0m",
      "\u001b[0;31mNameError\u001b[0m: name 'model_1' is not defined"
     ]
    }
   ],
   "source": [
    "model_1.predict_on_batch(training_data[\"file_input\"])"
   ]
  },
  {
   "cell_type": "code",
   "execution_count": null,
   "metadata": {},
   "outputs": [],
   "source": []
  }
 ],
 "metadata": {
  "kernelspec": {
   "display_name": "Python 3",
   "language": "python",
   "name": "python3"
  },
  "language_info": {
   "codemirror_mode": {
    "name": "ipython",
    "version": 3
   },
   "file_extension": ".py",
   "mimetype": "text/x-python",
   "name": "python",
   "nbconvert_exporter": "python",
   "pygments_lexer": "ipython3",
   "version": "3.7.3"
  }
 },
 "nbformat": 4,
 "nbformat_minor": 2
}
